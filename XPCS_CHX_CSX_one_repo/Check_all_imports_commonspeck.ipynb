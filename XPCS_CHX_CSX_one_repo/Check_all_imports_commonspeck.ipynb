{
 "cells": [
  {
   "cell_type": "code",
   "execution_count": 4,
   "metadata": {},
   "outputs": [
    {
     "data": {
      "text/plain": [
       "1"
      ]
     },
     "execution_count": 4,
     "metadata": {},
     "output_type": "execute_result"
    }
   ],
   "source": [
    "1"
   ]
  },
  {
   "cell_type": "code",
   "execution_count": 13,
   "metadata": {},
   "outputs": [
    {
     "name": "stdout",
     "output_type": "stream",
     "text": [
      "4.0.8+14.g62a6218.dirty\n"
     ]
    }
   ],
   "source": [
    "import pyCHX\n",
    "print(f'{pyCHX.__version__ }')"
   ]
  },
  {
   "cell_type": "code",
   "execution_count": 14,
   "metadata": {},
   "outputs": [
    {
     "name": "stdout",
     "output_type": "stream",
     "text": [
      "Badpixels.py              chx_xpcs_xsvs_jupyter_V1.py\n",
      "chx_compress_analysis.py  Compress_readerNew.py\n",
      "chx_compress.py           Create_Report.py\n",
      "chx_correlationc.py       DataGonio.py\n",
      "chx_correlationp2.py      DEVs.py\n",
      "chx_correlationp.py       __init__.py\n",
      "chx_correlation.py        movie_maker.py\n",
      "chx_crosscor.py           \u001b[0m\u001b[01;34m__pycache__\u001b[0m/\n",
      "chx_Fitters2D.py          SAXS.py\n",
      "chx_generic_functions.py  Stitching.py\n",
      "chx_handlers.py           Two_Time_Correlation_Function.py\n",
      "chx_libs.py               XPCS_GiSAXS.py\n",
      "chx_olog.py               XPCS_SAXS.py\n",
      "chx_packages.py           xpcs_timepixel.py\n",
      "chx_specklecp.py          XPCS_XSVS_SAXS_Multi_2017_V4.py\n",
      "chx_speckle.py\n"
     ]
    }
   ],
   "source": [
    "ls Repos/pyCHX/pyCHX/v2/_commonspeckle"
   ]
  },
  {
   "cell_type": "markdown",
   "metadata": {},
   "source": [
    "### Not importing from `v2._commonspeckle`\n",
    "* Badpixels.py _(delete)_\n",
    "* chx_packages.py _(delete)_\n",
    "* xpcs_timepixel.py _(delete, but wait first to see if useful info)_\n",
    "* DEVS.py _(delete, part of crosscorr project)_\n",
    "* chx_crosscor.py _(delete, part of crosscorr project)_\n",
    "* Compress_readerNew.py _(not yet, needs evaluation first, low priority)_\n",
    "* Create_Report.py _(not yet, needs evaluation first, low priority)_\n",
    "* chx_olog.py _(not yet, needs evaluation first, low priority, maybe some pyOlog tools here)_"
   ]
  },
  {
   "cell_type": "markdown",
   "metadata": {},
   "source": [
    "### Importing modules that are required dependancies for modules we want to use"
   ]
  },
  {
   "cell_type": "code",
   "execution_count": 15,
   "metadata": {},
   "outputs": [],
   "source": [
    "from pyCHX.v2._commonspeckle import chx_libs\n",
    "from pyCHX.v2._commonspeckle import chx_generic_functions\n",
    "from pyCHX.v2._commonspeckle import chx_compress\n",
    "from pyCHX.v2._commonspeckle import chx_compress_analysis"
   ]
  },
  {
   "cell_type": "markdown",
   "metadata": {},
   "source": [
    "### Importing autocorreletion modules"
   ]
  },
  {
   "cell_type": "code",
   "execution_count": 16,
   "metadata": {},
   "outputs": [],
   "source": [
    "from pyCHX.v2._commonspeckle import chx_correlation\n",
    "from pyCHX.v2._commonspeckle import chx_correlationc\n",
    "from pyCHX.v2._commonspeckle import Two_Time_Correlation_Function\n",
    "from pyCHX.v2._commonspeckle import chx_correlationp\n",
    "from pyCHX.v2._commonspeckle import chx_correlationp2"
   ]
  },
  {
   "cell_type": "markdown",
   "metadata": {},
   "source": [
    "### Importing speckle modules"
   ]
  },
  {
   "cell_type": "code",
   "execution_count": 17,
   "metadata": {},
   "outputs": [],
   "source": [
    "from pyCHX.v2._commonspeckle import chx_speckle\n",
    "from pyCHX.v2._commonspeckle import chx_specklecp"
   ]
  },
  {
   "cell_type": "markdown",
   "metadata": {},
   "source": [
    "### Importing Geo-tools"
   ]
  },
  {
   "cell_type": "code",
   "execution_count": 18,
   "metadata": {},
   "outputs": [],
   "source": [
    "from pyCHX.v2._commonspeckle import DataGonio\n",
    "from pyCHX.v2._commonspeckle import SAXS\n",
    "from pyCHX.v2._commonspeckle import Stitching\n",
    "from pyCHX.v2._commonspeckle import XPCS_GiSAXS\n",
    "from pyCHX.v2._commonspeckle import XPCS_SAXS\n"
   ]
  },
  {
   "cell_type": "markdown",
   "metadata": {},
   "source": [
    "### Importing User Tools "
   ]
  },
  {
   "cell_type": "code",
   "execution_count": 19,
   "metadata": {},
   "outputs": [],
   "source": [
    "from pyCHX.v2._commonspeckle import movie_maker\n",
    "from pyCHX.v2._commonspeckle import XPCS_XSVS_SAXS_Multi_2017_V4 \n",
    "from pyCHX.v2._commonspeckle import chx_xpcs_xsvs_jupyter_V1 \n",
    "from pyCHX.v2._commonspeckle import chx_Fitters2D"
   ]
  },
  {
   "cell_type": "markdown",
   "metadata": {},
   "source": [
    "### List of imported modules from `pyCHX.v2._commonspeckle`"
   ]
  },
  {
   "cell_type": "code",
   "execution_count": 85,
   "metadata": {},
   "outputs": [
    {
     "name": "stdout",
     "output_type": "stream",
     "text": [
      "['pyCHX.v2._commonspeckle.movie_maker',\n",
      " 'pyCHX.v2._commonspeckle.XPCS_XSVS_SAXS_Multi_2017_V4',\n",
      " 'pyCHX.v2._commonspeckle.chx_xpcs_xsvs_jupyter_V1',\n",
      " 'pyCHX.v2._commonspeckle.chx_libs',\n",
      " 'pyCHX.v2._commonspeckle.chx_Fitters2D',\n",
      " 'pyCHX.v2._commonspeckle.chx_generic_functions',\n",
      " 'pyCHX.v2._commonspeckle.chx_compress',\n",
      " 'pyCHX.v2._commonspeckle.chx_compress_analysis',\n",
      " 'pyCHX.v2._commonspeckle.chx_correlation',\n",
      " 'pyCHX.v2._commonspeckle.chx_correlationc',\n",
      " 'pyCHX.v2._commonspeckle.Two_Time_Correlation_Function',\n",
      " 'pyCHX.v2._commonspeckle.chx_correlationp',\n",
      " 'pyCHX.v2._commonspeckle.chx_correlationp2',\n",
      " 'pyCHX.v2._commonspeckle.chx_speckle',\n",
      " 'pyCHX.v2._commonspeckle.chx_specklecp',\n",
      " 'pyCHX.v2._commonspeckle.DataGonio',\n",
      " 'pyCHX.v2._commonspeckle.SAXS',\n",
      " 'pyCHX.v2._commonspeckle.Stitching',\n",
      " 'pyCHX.v2._commonspeckle.XPCS_GiSAXS',\n",
      " 'pyCHX.v2._commonspeckle.XPCS_SAXS']\n"
     ]
    }
   ],
   "source": [
    "import sys, pprint\n",
    "mods = [m.__name__ for m in sys.modules.values() if m]\n",
    "chx_mods = [m for m in mods if 'pyCHX.v2._commonspeckle.' in m]\n",
    "pprint.pprint(chx_mods)"
   ]
  },
  {
   "cell_type": "code",
   "execution_count": null,
   "metadata": {},
   "outputs": [],
   "source": []
  }
 ],
 "metadata": {
  "kernelspec": {
   "display_name": "CSX-s1 pyCHX",
   "language": "python",
   "name": "z_23id_srv1_csx_pychx"
  },
  "language_info": {
   "codemirror_mode": {
    "name": "ipython",
    "version": 3
   },
   "file_extension": ".py",
   "mimetype": "text/x-python",
   "name": "python",
   "nbconvert_exporter": "python",
   "pygments_lexer": "ipython3",
   "version": "3.7.3"
  }
 },
 "nbformat": 4,
 "nbformat_minor": 2
}
